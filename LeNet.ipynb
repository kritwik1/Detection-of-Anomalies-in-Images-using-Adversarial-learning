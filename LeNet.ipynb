{
 "cells": [
  {
   "cell_type": "code",
   "execution_count": 1,
   "metadata": {},
   "outputs": [
    {
     "name": "stderr",
     "output_type": "stream",
     "text": [
      "Using TensorFlow backend.\n"
     ]
    }
   ],
   "source": [
    "import os\n",
    "import numpy as np\n",
    "import shutil\n",
    "import keras\n",
    "from PIL import Image\n",
    "import matplotlib.pyplot as plt\n",
    "import matplotlib.image as img\n",
    "from keras.models import Sequential\n",
    "from keras.layers import Conv2D\n",
    "from keras.layers import MaxPooling2D\n",
    "from keras.layers import Flatten\n",
    "from keras.layers import Dense\n",
    "from keras.preprocessing.image import ImageDataGenerator, load_img\n",
    "from sklearn.metrics import classification_report, confusion_matrix\n",
    "import keras\n",
    "import keras.layers as layers\n",
    "from keras.models import Sequential\n",
    "from keras.preprocessing.image import ImageDataGenerator\n",
    "from keras.utils.np_utils import to_categorical\n",
    "from keras.callbacks import TensorBoard\n",
    "from keras.optimizers import Adam, SGD, RMSprop\n",
    "from keras.callbacks import ModelCheckpoint, Callback, EarlyStopping\n",
    "from keras.applications.resnet50 import ResNet50\n",
    "from keras.models import Model\n",
    "from keras.models import load_model\n",
    "from keras.layers import GlobalAveragePooling2D\n",
    "from keras.utils import multi_gpu_model\n",
    "from keras.optimizers import Adam, SGD, RMSprop\n",
    "from keras.callbacks import ModelCheckpoint, Callback, EarlyStopping"
   ]
  },
  {
   "cell_type": "markdown",
   "metadata": {},
   "source": [
    "Steps Involved in preprocessing::"
   ]
  },
  {
   "cell_type": "markdown",
   "metadata": {},
   "source": [
    "list was made containing all the images and to know the number of images:"
   ]
  },
  {
   "cell_type": "code",
   "execution_count": 172,
   "metadata": {},
   "outputs": [
    {
     "name": "stdout",
     "output_type": "stream",
     "text": [
      "200\n"
     ]
    }
   ],
   "source": [
    "ke = []\n",
    "for name in os.listdir(\"C:/Users/Ritwik/Downloads/Test/Normal\"):\n",
    "    ke.append(name)\n",
    "print(len(ke))"
   ]
  },
  {
   "cell_type": "markdown",
   "metadata": {},
   "source": [
    "For Selecting a particular number of images :"
   ]
  },
  {
   "cell_type": "code",
   "execution_count": null,
   "metadata": {},
   "outputs": [],
   "source": [
    "'''train = np.random.choice(ke, 250, replace = False)\n",
    "ke = list(set(ke) - set(train))\n",
    "print(len(ke)) '''"
   ]
  },
  {
   "cell_type": "markdown",
   "metadata": {},
   "source": [
    "For moving images from one folder to another"
   ]
  },
  {
   "cell_type": "code",
   "execution_count": null,
   "metadata": {},
   "outputs": [],
   "source": [
    "'''for n in ke:\n",
    "    shutil.move(\"/content/drive/My Drive/Mnist/Test/Normal/\" + n, \"/content/drive/My Drive/test60/Normal\")\n",
    "    '''"
   ]
  },
  {
   "cell_type": "markdown",
   "metadata": {},
   "source": [
    " Another list was made containing the Images in the form of Numpy array by following method.\n",
    "\n"
   ]
  },
  {
   "cell_type": "code",
   "execution_count": 173,
   "metadata": {},
   "outputs": [],
   "source": [
    "folder='C:/Users/Ritwik/Downloads/Mnist/Test/Normal/'\n",
    "kl=[]\n",
    "for i in ke:    \n",
    "    norm_pic_address = folder+i\n",
    "    norm_load = Image.open(norm_pic_address)\n",
    "    kl.append(np.array(norm_load))\n",
    "imgArray = np.asarray(kl, dtype=np.float32) "
   ]
  },
  {
   "cell_type": "markdown",
   "metadata": {},
   "source": [
    "Adding noise to the Numpy array and Then the Images containing Noise were saved into folders containing specific noise  by following Method the folders were also created automatically."
   ]
  },
  {
   "cell_type": "code",
   "execution_count": 174,
   "metadata": {},
   "outputs": [],
   "source": [
    "\n",
    "j=[]\n",
    "for nf in range(10,50,10):\n",
    "    '''Gaussian noise'''\n",
    "    gnImgArray = imgArray + nf * np.random.normal(loc=0.0, scale=1.0, size=imgArray.shape)\n",
    "    j.append(gnImgArray)\n",
    "for nf in range(10,50,10):    \n",
    "    '''poisson noise'''\n",
    "    pnImgArray = imgArray + nf * np.random.poisson(lam=1.0, size=imgArray.shape)\n",
    "    j.append(pnImgArray)\n",
    "for nf in range(10,50,10):    \n",
    "    '''Speckel noise'''\n",
    "    gn2ImgArray = imgArray + nf * np.random.normal(loc=0.0, scale=1.0, size=imgArray.shape)\n",
    "    spImgArray = imgArray + imgArray * gn2ImgArray\n",
    "    j.append(spImgArray)\n",
    "j = np.asarray(j, dtype=np.float32)\n",
    "parent='C:/Users/Ritwik/Downloads/Test/'\n",
    "for nf in range(10,50,10):\n",
    "    num=(nf//10)-1\n",
    "    '''Gaussian Dir'''\n",
    "    di=str(nf)+'Gaussian'\n",
    "    pathcr=os.path.join(parent,di)\n",
    "    os.mkdir(pathcr)\n",
    "    for i in range(0,200):\n",
    "        im = Image.fromarray(j[num][i])\n",
    "        im = im.convert(\"L\")\n",
    "        path=pathcr+'/'\n",
    "        im.save(path+ke[i])\n",
    "            \n",
    "    '''Poisson Dir'''\n",
    "    di=str(nf)+'Poission'\n",
    "    num=(nf//10)+3\n",
    "    pathcr=os.path.join(parent,di)\n",
    "    os.mkdir(pathcr)\n",
    "    for i in range(0,200):\n",
    "        im = Image.fromarray(j[num][i])\n",
    "        im = im.convert(\"L\")\n",
    "        path=pathcr+'/'\n",
    "        im.save(path+ke[i])\n",
    "            \n",
    "    '''Speckel Dir'''\n",
    "    di=str(nf)+'Speckel'\n",
    "    num=(nf//10)+7\n",
    "    pathcr=os.path.join(parent,di)\n",
    "    os.mkdir(pathcr)\n",
    "    for i in range(0,200):\n",
    "        im = Image.fromarray(j[num][i])\n",
    "        im = im.convert(\"L\")\n",
    "        path=pathcr+'/'\n",
    "        im.save(path+ke[i])    "
   ]
  },
  {
   "cell_type": "code",
   "execution_count": null,
   "metadata": {},
   "outputs": [],
   "source": [
    "''''e = []\n",
    "for name in os.listdir(\"C:/Users/Ritwik/Downloads/Test/20S\"):\n",
    "    e.append(name)\n",
    "print(len(e))'''"
   ]
  },
  {
   "cell_type": "code",
   "execution_count": 17,
   "metadata": {},
   "outputs": [],
   "source": [
    "'''folder='C:/Users/Ritwik/Downloads/Mnist/Test/20S/'    \n",
    "norm_pic_address = folder+e[6]\n",
    "norm_load = Image.open(norm_pic_address)\n",
    "nparray=np.array(norm_load)\n",
    "a = np.asarray(nparray, dtype=np.float32)'''"
   ]
  },
  {
   "cell_type": "markdown",
   "metadata": {},
   "source": [
    "Below code represent code for plotting images"
   ]
  },
  {
   "cell_type": "code",
   "execution_count": 18,
   "metadata": {},
   "outputs": [
    {
     "data": {
      "image/png": "[encoded data removed]",
      "text/plain": [
       "<Figure size 432x288 with 1 Axes>"
      ]
     },
     "metadata": {
      "needs_background": "light"
     },
     "output_type": "display_data"
    }
   ],
   "source": [
    "'''plt.imshow(a,cmap = \"gray\")\n",
    "plt.show()'''"
   ]
  },
  {
   "cell_type": "markdown",
   "metadata": {},
   "source": [
    "Steps Involved in training:\n",
    "\n",
    "1)paths of training,testing and validation set were identified.\n",
    "\n",
    "2)Size of image specified as per the input requirement of Model\n",
    "\n",
    "3)Then Some Data Augmentation was done for making the value of pixel between 0 and 1 so that the training procedure can be fast.\n",
    "\n",
    "4)Batch Size and Epoch were specified\n",
    "\n",
    "5)Train ,test and validation were generated by the following code:\n",
    "flow_from_directory::Takes the path to a directory, and generates batches of augmented/normalized data. "
   ]
  },
  {
   "cell_type": "code",
   "execution_count": 181,
   "metadata": {},
   "outputs": [
    {
     "name": "stdout",
     "output_type": "stream",
     "text": [
      "Found 2000 images belonging to 4 classes.\n",
      "Found 1000 images belonging to 4 classes.\n",
      "Found 800 images belonging to 4 classes.\n"
     ]
    }
   ],
   "source": [
    "train_folder= \"C:/Users/Ritwik/Downloads/Mnist/Train\"\n",
    "val_folder = \"C:/Users/Ritwik/Downloads/Mnist/Val\"\n",
    "test_folder = \"C:/Users/Ritwik/Downloads/Test/Test10\"\n",
    "image_size = 32\n",
    "train_datagen = ImageDataGenerator(rescale = 1./255,\n",
    "                                  horizontal_flip = True)\n",
    "test_datagen = ImageDataGenerator(rescale = 1./255)\n",
    "val_datagen = ImageDataGenerator(rescale = 1./255)\n",
    "EPOCHS = 10\n",
    "BATCH_SIZE = 10\n",
    "train_generator = train_datagen.flow_from_directory(train_folder,\n",
    "                                                  target_size = (image_size, image_size),\n",
    "                                                   color_mode='grayscale',\n",
    "                                                  batch_size = BATCH_SIZE,\n",
    "                                                  class_mode = 'categorical')\n",
    "\n",
    "validation_generator = val_datagen.flow_from_directory(val_folder,\n",
    "     target_size=(image_size, image_size),\n",
    "      color_mode='grayscale',\n",
    "     batch_size=BATCH_SIZE,\n",
    "     class_mode='categorical')\n",
    "\n",
    "test_generator = test_datagen.flow_from_directory(test_folder,\n",
    "                                            target_size = (image_size, image_size),\n",
    "                                            color_mode='grayscale',\n",
    "                                             batch_size = 1,\n",
    "                                            class_mode = 'categorical',\n",
    "                                            )"
   ]
  },
  {
   "cell_type": "markdown",
   "metadata": {},
   "source": [
    "Then the model was trained on the train generator and validated using a validation generator.\n",
    " \n",
    "1.Model Defination"
   ]
  },
  {
   "cell_type": "code",
   "execution_count": 176,
   "metadata": {},
   "outputs": [
    {
     "name": "stdout",
     "output_type": "stream",
     "text": [
      "Model: \"sequential_8\"\n",
      "_________________________________________________________________\n",
      "Layer (type)                 Output Shape              Param #   \n",
      "=================================================================\n",
      "conv2d_15 (Conv2D)           (None, 30, 30, 6)         60        \n",
      "_________________________________________________________________\n",
      "average_pooling2d_15 (Averag (None, 15, 15, 6)         0         \n",
      "_________________________________________________________________\n",
      "conv2d_16 (Conv2D)           (None, 13, 13, 16)        880       \n",
      "_________________________________________________________________\n",
      "average_pooling2d_16 (Averag (None, 6, 6, 16)          0         \n",
      "_________________________________________________________________\n",
      "flatten_8 (Flatten)          (None, 576)               0         \n",
      "_________________________________________________________________\n",
      "dense_22 (Dense)             (None, 120)               69240     \n",
      "_________________________________________________________________\n",
      "dense_23 (Dense)             (None, 84)                10164     \n",
      "_________________________________________________________________\n",
      "dense_24 (Dense)             (None, 4)                 340       \n",
      "=================================================================\n",
      "Total params: 80,684\n",
      "Trainable params: 80,684\n",
      "Non-trainable params: 0\n",
      "_________________________________________________________________\n"
     ]
    }
   ],
   "source": [
    "model = keras.Sequential()\n",
    "\n",
    "model.add(layers.Conv2D(filters=6, kernel_size=(3, 3), activation='relu', input_shape=(32,32,1)))\n",
    "model.add(layers.AveragePooling2D())\n",
    "\n",
    "model.add(layers.Conv2D(filters=16, kernel_size=(3, 3), activation='relu'))\n",
    "model.add(layers.AveragePooling2D())\n",
    "\n",
    "model.add(layers.Flatten())\n",
    "\n",
    "model.add(layers.Dense(units=120, activation='relu'))\n",
    "\n",
    "model.add(layers.Dense(units=84, activation='relu'))\n",
    "\n",
    "model.add(layers.Dense(units=4, activation = 'softmax'))\n",
    "model.summary()"
   ]
  },
  {
   "cell_type": "markdown",
   "metadata": {},
   "source": [
    "Model Compilation:It defines the loss function, the optimizer and the metrics"
   ]
  },
  {
   "cell_type": "code",
   "execution_count": 177,
   "metadata": {},
   "outputs": [],
   "source": [
    "model.compile(loss=keras.losses.categorical_crossentropy, optimizer=keras.optimizers.Adam(), metrics=['accuracy'])"
   ]
  },
  {
   "cell_type": "markdown",
   "metadata": {},
   "source": [
    "Training/Fitting od Model"
   ]
  },
  {
   "cell_type": "code",
   "execution_count": 178,
   "metadata": {},
   "outputs": [
    {
     "name": "stdout",
     "output_type": "stream",
     "text": [
      "Epoch 1/10\n",
      "200/200 [==============================] - 5s 27ms/step - loss: 0.5021 - accuracy: 0.7875 - val_loss: 0.5817 - val_accuracy: 0.9670\n",
      "Epoch 2/10\n",
      "200/200 [==============================] - 3s 17ms/step - loss: 0.0778 - accuracy: 0.9745 - val_loss: 0.0047 - val_accuracy: 0.9710\n",
      "Epoch 3/10\n",
      "200/200 [==============================] - 3s 17ms/step - loss: 0.0381 - accuracy: 0.9890 - val_loss: 0.0075 - val_accuracy: 0.9980\n",
      "Epoch 4/10\n",
      "200/200 [==============================] - 3s 13ms/step - loss: 0.0132 - accuracy: 0.9970 - val_loss: 8.3009e-04 - val_accuracy: 1.0000\n",
      "Epoch 5/10\n",
      "200/200 [==============================] - 2s 12ms/step - loss: 0.0164 - accuracy: 0.9955 - val_loss: 0.0011 - val_accuracy: 0.9990\n",
      "Epoch 6/10\n",
      "200/200 [==============================] - 3s 15ms/step - loss: 0.0019 - accuracy: 1.0000 - val_loss: 5.8833e-04 - val_accuracy: 1.0000\n",
      "Epoch 7/10\n",
      "200/200 [==============================] - 3s 17ms/step - loss: 0.0057 - accuracy: 0.9985 - val_loss: 0.0078 - val_accuracy: 1.0000\n",
      "Epoch 8/10\n",
      "200/200 [==============================] - 2s 12ms/step - loss: 5.7689e-04 - accuracy: 1.0000 - val_loss: 1.1049e-04 - val_accuracy: 1.0000\n",
      "Epoch 9/10\n",
      "200/200 [==============================] - 3s 13ms/step - loss: 7.0352e-04 - accuracy: 1.0000 - val_loss: 8.4092e-05 - val_accuracy: 1.0000\n",
      "Epoch 10/10\n",
      "200/200 [==============================] - 5s 25ms/step - loss: 2.7941e-04 - accuracy: 1.0000 - val_loss: 3.9433e-05 - val_accuracy: 1.0000\n"
     ]
    },
    {
     "data": {
      "text/plain": [
       "<keras.callbacks.callbacks.History at 0x1e227f01288>"
      ]
     },
     "execution_count": 178,
     "metadata": {},
     "output_type": "execute_result"
    }
   ],
   "source": [
    " model.fit_generator(train_generator,\n",
    "                            epochs = 10,\n",
    "                            steps_per_epoch=train_generator.samples/train_generator.batch_size,\n",
    "                            validation_steps=validation_generator.samples/validation_generator.batch_size,\n",
    "                            validation_data = validation_generator,\n",
    "\n",
    "                            verbose=1)"
   ]
  },
  {
   "cell_type": "markdown",
   "metadata": {},
   "source": [
    "Evaluating Testing accuray on test data(containing 50% noise)"
   ]
  },
  {
   "cell_type": "code",
   "execution_count": 179,
   "metadata": {},
   "outputs": [
    {
     "name": "stdout",
     "output_type": "stream",
     "text": [
      "900/900 [==============================] - 2s 2ms/step\n"
     ]
    }
   ],
   "source": [
    "test_accu_initial = model.evaluate_generator(test_generator, steps = test_generator.samples/test_generator.batch_size, verbose=1)"
   ]
  },
  {
   "cell_type": "code",
   "execution_count": 40,
   "metadata": {},
   "outputs": [
    {
     "name": "stdout",
     "output_type": "stream",
     "text": [
      "The testing accuracy for 50%(trained on 50%): 100.0 %\n",
      "The testing accuracy for 10%(trained on 50%) : 48.625001311302185 %\n",
      "The testing accuracy for 20%(trained on 50%): 57.749998569488525 %\n",
      "The testing accuracy for 30%(trained on 50%) : 82.12500214576721 %\n",
      "The testing accuracy for 40%(trained on 50%): 99.87499713897705 %\n",
      "The testing accuracy for 60%(trained on 50%): 100.0 %\n"
     ]
    }
   ],
   "source": [
    "print('The testing accuracy for 50%(trained on 50%):',test_accu_initial[1]*100, '%')\n",
    "print('The testing accuracy for 10%(trained on 50%) :',test_accu_10[1]*100, '%')\n",
    "print('The testing accuracy for 20%(trained on 50%):',test_accu_20[1]*100, '%')\n",
    "print('The testing accuracy for 30%(trained on 50%) :',test_accu_30[1]*100, '%')\n",
    "print('The testing accuracy for 40%(trained on 50%):',test_accu_40[1]*100, '%')\n",
    "print('The testing accuracy for 60%(trained on 50%):',test_accu_60[1]*100, '%')"
   ]
  },
  {
   "cell_type": "code",
   "execution_count": 183,
   "metadata": {},
   "outputs": [
    {
     "name": "stdout",
     "output_type": "stream",
     "text": [
      "The testing accuracy for 50%(trained on 50%): 47.999998927116394 %\n"
     ]
    }
   ],
   "source": [
    "print('The testing accuracy for 50%(trained on 50%):',test_accu_10[1]*100, '%')"
   ]
  },
  {
   "cell_type": "markdown",
   "metadata": {},
   "source": [
    "Evaluating Testing accuray on test data(containing 10% noise)"
   ]
  },
  {
   "cell_type": "code",
   "execution_count": 182,
   "metadata": {},
   "outputs": [
    {
     "name": "stdout",
     "output_type": "stream",
     "text": [
      "800/800 [==============================] - 1s 2ms/step\n"
     ]
    }
   ],
   "source": [
    "test_accu_10 = model.evaluate_generator(test_generator, steps = test_generator.samples/test_generator.batch_size, verbose=1)\n"
   ]
  },
  {
   "cell_type": "markdown",
   "metadata": {},
   "source": [
    "Evaluating Testing accuray on test data(containing 20% noise)"
   ]
  },
  {
   "cell_type": "code",
   "execution_count": 28,
   "metadata": {},
   "outputs": [
    {
     "name": "stdout",
     "output_type": "stream",
     "text": [
      "800/800 [==============================] - 11s 14ms/step\n"
     ]
    }
   ],
   "source": [
    "test_accu_20 = model.evaluate_generator(test_generator, steps = test_generator.samples/test_generator.batch_size, verbose=1)"
   ]
  },
  {
   "cell_type": "markdown",
   "metadata": {},
   "source": [
    "Evaluating Testing accuray on test data(containing 30% noise)"
   ]
  },
  {
   "cell_type": "code",
   "execution_count": 31,
   "metadata": {},
   "outputs": [
    {
     "name": "stdout",
     "output_type": "stream",
     "text": [
      "800/800 [==============================] - 12s 15ms/step\n"
     ]
    }
   ],
   "source": [
    "test_accu_30 = model.evaluate_generator(test_generator, steps = test_generator.samples/test_generator.batch_size, verbose=1)"
   ]
  },
  {
   "cell_type": "markdown",
   "metadata": {},
   "source": [
    "Evaluating Testing accuray on test data(containing 40% noise)"
   ]
  },
  {
   "cell_type": "code",
   "execution_count": 34,
   "metadata": {},
   "outputs": [
    {
     "name": "stdout",
     "output_type": "stream",
     "text": [
      "800/800 [==============================] - 14s 18ms/step\n"
     ]
    }
   ],
   "source": [
    "test_accu_40 = model.evaluate_generator(test_generator, steps = test_generator.samples/test_generator.batch_size, verbose=1)"
   ]
  },
  {
   "cell_type": "markdown",
   "metadata": {},
   "source": [
    "Evaluating Testing accuray on test data(containing 60% noise)"
   ]
  },
  {
   "cell_type": "code",
   "execution_count": 10,
   "metadata": {},
   "outputs": [
    {
     "name": "stdout",
     "output_type": "stream",
     "text": [
      "800/800 [==============================] - 5s 7ms/step\n"
     ]
    }
   ],
   "source": [
    "test_accu_60 = model.evaluate_generator(test_generator, steps = test_generator.samples/test_generator.batch_size, verbose=1)"
   ]
  },
  {
   "cell_type": "markdown",
   "metadata": {},
   "source": [
    "The below four blocks of code represent the code used for predicting the probability of one image belonging to certain class"
   ]
  },
  {
   "cell_type": "code",
   "execution_count": 184,
   "metadata": {},
   "outputs": [
    {
     "name": "stdout",
     "output_type": "stream",
     "text": [
      "200\n"
     ]
    }
   ],
   "source": [
    "kpke = []\n",
    "for name in os.listdir(\"C:/Users/Ritwik/Downloads/Test/Test40/Poission\"):\n",
    "    kpke.append(name)\n",
    "print(len(kpke))"
   ]
  },
  {
   "cell_type": "code",
   "execution_count": 185,
   "metadata": {},
   "outputs": [],
   "source": [
    "from PIL import Image\n",
    "import numpy as np\n",
    "from skimage import transform\n",
    "folder='C:/Users/Ritwik/Downloads/Test/Test40/Poission/'   \n",
    "filename = folder+kpke[1]\n",
    "def load(filename):\n",
    "    np_image = Image.open(filename)\n",
    "    np_image = np.array(np_image).astype('float32')/255\n",
    "    np_image = transform.resize(np_image, (32,32,1))\n",
    "    np_image = np.expand_dims(np_image, axis=0)\n",
    "    return np_image\n",
    "\n",
    "image = load(filename)\n",
    "most_likely_labels=model.predict(image)"
   ]
  },
  {
   "cell_type": "markdown",
   "metadata": {},
   "source": [
    "Below code represent the probalitiy of a single image belonging to a certain class"
   ]
  },
  {
   "cell_type": "code",
   "execution_count": 186,
   "metadata": {},
   "outputs": [
    {
     "name": "stdout",
     "output_type": "stream",
     "text": [
      "[[5.0215540e-04 2.1532286e-10 9.9944896e-01 4.8886737e-05]]\n"
     ]
    }
   ],
   "source": [
    "print(most_likely_labels)"
   ]
  },
  {
   "cell_type": "code",
   "execution_count": 187,
   "metadata": {},
   "outputs": [
    {
     "data": {
      "image/png": "[encoded data removed]",
      "text/plain": [
       "<Figure size 432x288 with 1 Axes>"
      ]
     },
     "metadata": {
      "needs_background": "light"
     },
     "output_type": "display_data"
    }
   ],
   "source": [
    "import matplotlib.pyplot as plt \n",
    "x = [10,20,30,40,50,60] \n",
    "# corresponding y axis values \n",
    "y = [48.625001311302185,57.749998569488525,82.12500214576721,99.87499713897705,100.0,100.0] \n",
    "  \n",
    "# plotting the points  \n",
    "plt.plot(x, y) \n",
    "  \n",
    "# naming the x axis \n",
    "plt.xlabel('percentage noise') \n",
    "# naming the y axis \n",
    "plt.ylabel('accuracy') \n",
    "  \n",
    "# giving a title to my graph \n",
    "plt.title('LeNet Model') \n",
    "  \n",
    "# function to show the plot \n",
    "plt.show() \n"
   ]
  },
  {
   "cell_type": "code",
   "execution_count": null,
   "metadata": {},
   "outputs": [],
   "source": []
  },
  {
   "cell_type": "code",
   "execution_count": null,
   "metadata": {},
   "outputs": [],
   "source": []
  }
 ],
 "metadata": {
  "kernelspec": {
   "display_name": "Python 3",
   "language": "python",
   "name": "python3"
  },
  "language_info": {
   "codemirror_mode": {
    "name": "ipython",
    "version": 3
   },
   "file_extension": ".py",
   "mimetype": "text/x-python",
   "name": "python",
   "nbconvert_exporter": "python",
   "pygments_lexer": "ipython3",
   "version": "3.7.4"
  }
 },
 "nbformat": 4,
 "nbformat_minor": 2
}
