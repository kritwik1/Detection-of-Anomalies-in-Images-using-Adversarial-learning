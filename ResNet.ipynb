{
  "nbformat": 4,
  "nbformat_minor": 0,
  "metadata": {
    "colab": {
      "name": "pneunomia0.ipynb",
      "provenance": [],
      "collapsed_sections": []
    },
    "kernelspec": {
      "name": "python3",
      "display_name": "Python 3"
    },
    "accelerator": "GPU"
  },
  "cells": [
    {
      "cell_type": "markdown",
      "metadata": {
        "id": "3vK-_fFeOFQF",
        "colab_type": "text"
      },
      "source": [
        "Below codes is for Mounting Google Drive"
      ]
    },
    {
      "cell_type": "code",
      "metadata": {
        "id": "SD8nMVXgfdlI",
        "colab_type": "code",
        "outputId": "3e51c0b1-ae0c-44ab-c512-38744fef04e1",
        "colab": {
          "base_uri": "https://localhost:8080/",
          "height": 128
        }
      },
      "source": [
        "from google.colab import drive\n",
        "drive.mount('/content/drive')"
      ],
      "execution_count": 0,
      "outputs": [
        {
          "output_type": "stream",
          "text": [
            "Go to this URL in a browser: https://accounts.google.com/o/oauth2/auth?client_id=947318989803-6bn6qk8qdgf4n4g3pfee6491hc0brc4i.apps.googleusercontent.com&redirect_uri=urn%3aietf%3awg%3aoauth%3a2.0%3aoob&response_type=code&scope=email%20https%3a%2f%2fwww.googleapis.com%2fauth%2fdocs.test%20https%3a%2f%2fwww.googleapis.com%2fauth%2fdrive%20https%3a%2f%2fwww.googleapis.com%2fauth%2fdrive.photos.readonly%20https%3a%2f%2fwww.googleapis.com%2fauth%2fpeopleapi.readonly\n",
            "\n",
            "Enter your authorization code:\n",
            "··········\n",
            "Mounted at /content/drive\n"
          ],
          "name": "stdout"
        }
      ]
    },
    {
      "cell_type": "markdown",
      "metadata": {
        "id": "QFNo-D9EOR8X",
        "colab_type": "text"
      },
      "source": [
        ""
      ]
    },
    {
      "cell_type": "code",
      "metadata": {
        "id": "_c8BUWLBg7yz",
        "colab_type": "code",
        "colab": {}
      },
      "source": [
        "import os"
      ],
      "execution_count": 0,
      "outputs": []
    },
    {
      "cell_type": "markdown",
      "metadata": {
        "id": "eMGCXPIIph-k",
        "colab_type": "text"
      },
      "source": [
        "Steps Involved In training ResNet::"
      ]
    },
    {
      "cell_type": "markdown",
      "metadata": {
        "id": "mvbCv-B3psqU",
        "colab_type": "text"
      },
      "source": [
        "-paths of training,testing and validation set were identified."
      ]
    },
    {
      "cell_type": "code",
      "metadata": {
        "id": "xV6DSquzg3sb",
        "colab_type": "code",
        "colab": {}
      },
      "source": [
        "train_folder= \"/content/drive/My Drive/Mnist/Train\"\n",
        "val_folder = \"/content/drive/My Drive/Mnist/Val\"\n",
        "test_folder = \"/content/drive/My Drive/Mnist/Test\""
      ],
      "execution_count": 0,
      "outputs": []
    },
    {
      "cell_type": "markdown",
      "metadata": {
        "id": "aXmJmklDpyEp",
        "colab_type": "text"
      },
      "source": [
        ""
      ]
    },
    {
      "cell_type": "code",
      "metadata": {
        "id": "QnsPQglvh6FH",
        "colab_type": "code",
        "outputId": "26dceae9-2072-4707-df71-266df4c6ac51",
        "colab": {
          "base_uri": "https://localhost:8080/",
          "height": 35
        }
      },
      "source": [
        "import keras\n",
        "from keras.models import Sequential\n",
        "from keras.layers import Conv2D\n",
        "from keras.layers import MaxPooling2D\n",
        "from keras.layers import Flatten\n",
        "from keras.layers import Dense\n",
        "from keras.preprocessing.image import ImageDataGenerator, load_img\n",
        "from sklearn.metrics import classification_report, confusion_matrix"
      ],
      "execution_count": 0,
      "outputs": [
        {
          "output_type": "stream",
          "text": [
            "Using TensorFlow backend.\n"
          ],
          "name": "stderr"
        }
      ]
    },
    {
      "cell_type": "markdown",
      "metadata": {
        "id": "X7UBB2DSp13P",
        "colab_type": "text"
      },
      "source": [
        "Size of image specified as per the input requirement of Model"
      ]
    },
    {
      "cell_type": "code",
      "metadata": {
        "id": "L3Odyv6DisYd",
        "colab_type": "code",
        "colab": {}
      },
      "source": [
        "image_size = 224\n",
        "from keras.applications.resnet50 import ResNet50\n",
        "from keras.models import Model\n",
        "from keras.models import load_model\n",
        "from keras.layers import GlobalAveragePooling2D\n",
        "from keras.utils import multi_gpu_model"
      ],
      "execution_count": 0,
      "outputs": []
    },
    {
      "cell_type": "markdown",
      "metadata": {
        "id": "t3-cnDNdp5hW",
        "colab_type": "text"
      },
      "source": [
        "Modifying ResNet so that it can work on grayscale images having four classes\n"
      ]
    },
    {
      "cell_type": "code",
      "metadata": {
        "id": "vcGyJMKTiy7F",
        "colab_type": "code",
        "outputId": "203ba763-ad5d-4888-8868-cf8b3ab70f32",
        "colab": {
          "base_uri": "https://localhost:8080/",
          "height": 74
        }
      },
      "source": [
        "def modified_resnet():\n",
        "    resnet = ResNet50(weights='imagenet', include_top=False)\n",
        "    \n",
        "    result = resnet.output\n",
        "    result = GlobalAveragePooling2D()(result)\n",
        "    result = Dense(512, activation='relu')(result)\n",
        "    \n",
        "    predictions = Dense(4, activation='sigmoid')(result)\n",
        "    \n",
        "    transfer_model = Model(inputs=resnet.input, outputs=predictions)\n",
        "    \n",
        "    return transfer_model\n",
        "\n",
        "cnn = modified_resnet() \n",
        "weights_path = '/content/modified_resnet.h5'\n",
        "#from keras.models import model_from_json\n",
        "cnn.load_weights('/content/my_model_weights.h5')"
      ],
      "execution_count": 0,
      "outputs": [
        {
          "output_type": "stream",
          "text": [
            "/usr/local/lib/python3.6/dist-packages/keras_applications/resnet50.py:265: UserWarning: The output shape of `ResNet50(include_top=False)` has been changed since Keras 2.2.0.\n",
            "  warnings.warn('The output shape of `ResNet50(include_top=False)` '\n"
          ],
          "name": "stderr"
        }
      ]
    },
    {
      "cell_type": "markdown",
      "metadata": {
        "id": "TAwi5G6XqPEJ",
        "colab_type": "text"
      },
      "source": [
        "Below two blocks represent the lading and saving of resnet weights for CNN model"
      ]
    },
    {
      "cell_type": "code",
      "metadata": {
        "id": "5eLe8C0DlJPy",
        "colab_type": "code",
        "colab": {}
      },
      "source": [
        "cnn.save_weights('my_model_weights.h5')\n"
      ],
      "execution_count": 0,
      "outputs": []
    },
    {
      "cell_type": "code",
      "metadata": {
        "id": "vNPNkfBsl1z4",
        "colab_type": "code",
        "colab": {}
      },
      "source": [
        "cnn.load_weights('my_model_weights.h5')"
      ],
      "execution_count": 0,
      "outputs": []
    },
    {
      "cell_type": "code",
      "metadata": {
        "id": "CPQsnZU2i2uO",
        "colab_type": "code",
        "outputId": "8966fd75-d286-4f12-9259-1e9de7083c78",
        "colab": {
          "base_uri": "https://localhost:8080/",
          "height": 73
        }
      },
      "source": [
        "#cnn.summary()\n",
        "cnn.save(\"modified_resnet.h5\")\n",
        "cnn = load_model(weights_path)\n",
        "#cnn = model_from_json(json_string)"
      ],
      "execution_count": 0,
      "outputs": [
        {
          "output_type": "stream",
          "text": [
            "/usr/local/lib/python3.6/dist-packages/keras/engine/saving.py:310: UserWarning: No training configuration found in save file: the model was *not* compiled. Compile it manually.\n",
            "  warnings.warn('No training configuration found in save file: '\n"
          ],
          "name": "stderr"
        }
      ]
    },
    {
      "cell_type": "markdown",
      "metadata": {
        "id": "pgtHryMTqbPA",
        "colab_type": "text"
      },
      "source": [
        "Then Some Data Augmentation was done for making the value of pixel between 0 and 1 so that the training procedure can be fast.\n"
      ]
    },
    {
      "cell_type": "code",
      "metadata": {
        "id": "VHOgURp6kfYS",
        "colab_type": "code",
        "colab": {}
      },
      "source": [
        "train_datagen = ImageDataGenerator(rescale = 1./255,\n",
        "                                  rotation_range=20,\n",
        "                                  shear_range=0.2,\n",
        "                                  zoom_range=0.2,\n",
        "                                  horizontal_flip = True)"
      ],
      "execution_count": 0,
      "outputs": []
    },
    {
      "cell_type": "code",
      "metadata": {
        "id": "yMXtADb7pYER",
        "colab_type": "code",
        "colab": {}
      },
      "source": [
        "test_datagen = ImageDataGenerator(rescale = 1./255)\n",
        "val_datagen = ImageDataGenerator(rescale = 1./255)"
      ],
      "execution_count": 0,
      "outputs": []
    },
    {
      "cell_type": "markdown",
      "metadata": {
        "id": "_bRVK8lvqfgX",
        "colab_type": "text"
      },
      "source": [
        " assigning value for Batch Size and Epoch"
      ]
    },
    {
      "cell_type": "code",
      "metadata": {
        "id": "P679HtsZpbWj",
        "colab_type": "code",
        "colab": {}
      },
      "source": [
        "train_batchsize = 10\n",
        "val_batchsize = 10\n",
        "test_batchsize = 1"
      ],
      "execution_count": 0,
      "outputs": []
    },
    {
      "cell_type": "markdown",
      "metadata": {
        "id": "mYyF2JVLqtim",
        "colab_type": "text"
      },
      "source": [
        "Train ,test and validation were generated by the following code:\n",
        "flow_from_directory::Takes the path to a directory, and generates batches of augmented/normalized data. \n"
      ]
    },
    {
      "cell_type": "code",
      "metadata": {
        "id": "8IQUsRiNpe47",
        "colab_type": "code",
        "outputId": "dfecb705-ed11-4242-e51f-07df2ac939a3",
        "colab": {
          "base_uri": "https://localhost:8080/",
          "height": 72
        }
      },
      "source": [
        "train_generator = train_datagen.flow_from_directory(train_folder,\n",
        "                                                  target_size = (image_size, image_size),\n",
        "                                                  batch_size = train_batchsize,\n",
        "                                                  class_mode = 'categorical')\n",
        "\n",
        "validation_generator = val_datagen.flow_from_directory(val_folder,\n",
        "     target_size=(image_size, image_size),\n",
        "     batch_size=val_batchsize,\n",
        "     class_mode='categorical')\n",
        "\n",
        "test_generator = test_datagen.flow_from_directory(test_folder,\n",
        "                                            target_size = (image_size, image_size),\n",
        "                                            batch_size = test_batchsize,\n",
        "                                            class_mode = 'categorical',\n",
        "                                            shuffle = False)"
      ],
      "execution_count": 0,
      "outputs": [
        {
          "output_type": "stream",
          "text": [
            "Found 2000 images belonging to 4 classes.\n",
            "Found 1000 images belonging to 4 classes.\n",
            "Found 800 images belonging to 4 classes.\n"
          ],
          "name": "stdout"
        }
      ]
    },
    {
      "cell_type": "code",
      "metadata": {
        "id": "LrSiwPPjpiFP",
        "colab_type": "code",
        "colab": {}
      },
      "source": [
        "from keras.optimizers import Adam, SGD, RMSprop\n",
        "from keras.callbacks import ModelCheckpoint, Callback, EarlyStopping"
      ],
      "execution_count": 0,
      "outputs": []
    },
    {
      "cell_type": "markdown",
      "metadata": {
        "id": "eHuk8S6grAiM",
        "colab_type": "text"
      },
      "source": [
        "Model Compilation"
      ]
    },
    {
      "cell_type": "code",
      "metadata": {
        "id": "6ZYHxt8srldn",
        "colab_type": "code",
        "colab": {}
      },
      "source": [
        "cnn.compile(loss='binary_crossentropy', \n",
        "            optimizer=keras.optimizers.Adam(),\n",
        "            metrics=['accuracy'])"
      ],
      "execution_count": 0,
      "outputs": []
    },
    {
      "cell_type": "markdown",
      "metadata": {
        "id": "XcFTqeIHrKpQ",
        "colab_type": "text"
      },
      "source": [
        "Training/Fitting od Model"
      ]
    },
    {
      "cell_type": "code",
      "metadata": {
        "id": "slxNPBn3rqQr",
        "colab_type": "code",
        "outputId": "75355a5f-4e83-466a-c353-086d651b5666",
        "colab": {
          "base_uri": "https://localhost:8080/",
          "height": 406
        }
      },
      "source": [
        "cnn_model = cnn.fit_generator(train_generator,\n",
        "                        epochs = 10,\n",
        "                        steps_per_epoch=train_generator.samples/train_generator.batch_size,\n",
        "                        validation_steps=validation_generator.samples/validation_generator.batch_size,\n",
        "                        validation_data = validation_generator,\n",
        "                        \n",
        "                        verbose=1)"
      ],
      "execution_count": 0,
      "outputs": [
        {
          "output_type": "stream",
          "text": [
            "Epoch 1/10\n",
            "200/200 [==============================] - 958s 5s/step - loss: 0.1279 - accuracy: 0.9681 - val_loss: 1.3200 - val_accuracy: 0.6250\n",
            "Epoch 2/10\n",
            "200/200 [==============================] - 82s 409ms/step - loss: 0.0562 - accuracy: 0.9844 - val_loss: 0.7892 - val_accuracy: 0.6250\n",
            "Epoch 3/10\n",
            "200/200 [==============================] - 82s 408ms/step - loss: 0.0218 - accuracy: 0.9933 - val_loss: 2.1521 - val_accuracy: 0.5913\n",
            "Epoch 4/10\n",
            "200/200 [==============================] - 82s 408ms/step - loss: 0.0165 - accuracy: 0.9939 - val_loss: 1.8635 - val_accuracy: 0.7575\n",
            "Epoch 5/10\n",
            "200/200 [==============================] - 81s 407ms/step - loss: 0.0195 - accuracy: 0.9934 - val_loss: 9.9217e-04 - val_accuracy: 1.0000\n",
            "Epoch 6/10\n",
            "200/200 [==============================] - 81s 407ms/step - loss: 0.0125 - accuracy: 0.9958 - val_loss: 0.0045 - val_accuracy: 1.0000\n",
            "Epoch 7/10\n",
            "200/200 [==============================] - 81s 407ms/step - loss: 0.0073 - accuracy: 0.9970 - val_loss: 1.6466 - val_accuracy: 0.7117\n",
            "Epoch 8/10\n",
            "200/200 [==============================] - 81s 407ms/step - loss: 0.0523 - accuracy: 0.9877 - val_loss: 190.4297 - val_accuracy: 0.6250\n",
            "Epoch 9/10\n",
            "200/200 [==============================] - 81s 406ms/step - loss: 0.0191 - accuracy: 0.9940 - val_loss: 0.0226 - val_accuracy: 0.9862\n",
            "Epoch 10/10\n",
            "200/200 [==============================] - 81s 407ms/step - loss: 0.0085 - accuracy: 0.9967 - val_loss: 2.9861e-06 - val_accuracy: 1.0000\n"
          ],
          "name": "stdout"
        }
      ]
    },
    {
      "cell_type": "markdown",
      "metadata": {
        "id": "J79wEA-OrQAP",
        "colab_type": "text"
      },
      "source": [
        "Evaluating Testing accuray on test data(containing 50% noise)"
      ]
    },
    {
      "cell_type": "code",
      "metadata": {
        "id": "SPOBqI3Eru4W",
        "colab_type": "code",
        "outputId": "34d73f4d-9909-4656-961e-892fe56f0871",
        "colab": {
          "base_uri": "https://localhost:8080/",
          "height": 35
        }
      },
      "source": [
        "test_accu = cnn.evaluate_generator(test_generator, steps = test_generator.samples/test_generator.batch_size, verbose=1)"
      ],
      "execution_count": 0,
      "outputs": [
        {
          "output_type": "stream",
          "text": [
            "900/900 [==============================] - 276s 307ms/step\n"
          ],
          "name": "stdout"
        }
      ]
    },
    {
      "cell_type": "code",
      "metadata": {
        "id": "og8te89J9N5K",
        "colab_type": "code",
        "outputId": "cbdd12ff-337f-4f51-a77e-e9acacb69621",
        "colab": {
          "base_uri": "https://localhost:8080/",
          "height": 128
        }
      },
      "source": [
        "print('The testing accuracy for 50% is :',test_accu[1]*100, '%')\n",
        "print('The testing accuracy for 10%(trained on 50%) :',test_accu_10[1]*100, '%')\n",
        "print('The testing accuracy for 20%(trained on 50%):',test_accu_20[1]*100, '%')\n",
        "print('The testing accuracy for 30%(trained on 50%) :',test_accu_30[1]*100, '%')\n",
        "print('The testing accuracy for 40%(trained on 50%):',test_accu_40[1]*100, '%')\n",
        "print('The testing accuracy for 60%(trained on 50%):',test_accu_60[1]*100, '%')\n",
        "print('The testing accuracy for 70%(trained on 50%):',test_accu_70[1]*100, '%')"
      ],
      "execution_count": 0,
      "outputs": [
        {
          "output_type": "stream",
          "text": [
            "The testing accuracy for 50% is : 99.97222423553467 %\n",
            "The testing accuracy for 10%(trained on 50%) : 74.84375238418579 %\n",
            "The testing accuracy for 20%(trained on 50%): 86.93749904632568 %\n",
            "The testing accuracy for 30%(trained on 50%) : 99.40624833106995 %\n",
            "The testing accuracy for 40%(trained on 50%): 99.75000023841858 %\n",
            "The testing accuracy for 60%(trained on 50%): 98.06249737739563 %\n"
          ],
          "name": "stdout"
        }
      ]
    },
    {
      "cell_type": "markdown",
      "metadata": {
        "id": "VyfYYcQsrWHc",
        "colab_type": "text"
      },
      "source": [
        "Evaluating Testing accuray on test data(containing 10% noise)"
      ]
    },
    {
      "cell_type": "code",
      "metadata": {
        "id": "NOOI6FIw51bW",
        "colab_type": "code",
        "outputId": "2aaa69e0-f772-48ce-f270-63c698ac4e3a",
        "colab": {
          "base_uri": "https://localhost:8080/",
          "height": 35
        }
      },
      "source": [
        "test_accu_10 = cnn.evaluate_generator(test_generator, steps = test_generator.samples/test_generator.batch_size, verbose=1)\n"
      ],
      "execution_count": 0,
      "outputs": [
        {
          "output_type": "stream",
          "text": [
            "800/800 [==============================] - 314s 392ms/step\n"
          ],
          "name": "stdout"
        }
      ]
    },
    {
      "cell_type": "markdown",
      "metadata": {
        "id": "GIUUniaNrYgK",
        "colab_type": "text"
      },
      "source": [
        "Evaluating Testing accuray on test data(containing 20% noise)"
      ]
    },
    {
      "cell_type": "code",
      "metadata": {
        "id": "PZJnXObc51nS",
        "colab_type": "code",
        "outputId": "478d44af-1f2b-4ad2-cf6b-de6e35117b21",
        "colab": {
          "base_uri": "https://localhost:8080/",
          "height": 35
        }
      },
      "source": [
        "test_accu_20 = cnn.evaluate_generator(test_generator, steps = test_generator.samples/test_generator.batch_size, verbose=1)\n"
      ],
      "execution_count": 0,
      "outputs": [
        {
          "output_type": "stream",
          "text": [
            "800/800 [==============================] - 274s 342ms/step\n"
          ],
          "name": "stdout"
        }
      ]
    },
    {
      "cell_type": "markdown",
      "metadata": {
        "id": "LXMVog8qrbB9",
        "colab_type": "text"
      },
      "source": [
        "Evaluating Testing accuray on test data(containing 30% noise)"
      ]
    },
    {
      "cell_type": "code",
      "metadata": {
        "id": "ftpGyYaY51xs",
        "colab_type": "code",
        "outputId": "5b78c1ea-fa74-449d-9b96-ab0207f467a4",
        "colab": {
          "base_uri": "https://localhost:8080/",
          "height": 35
        }
      },
      "source": [
        "test_accu_30 = cnn.evaluate_generator(test_generator, steps = test_generator.samples/test_generator.batch_size, verbose=1)"
      ],
      "execution_count": 0,
      "outputs": [
        {
          "output_type": "stream",
          "text": [
            "800/800 [==============================] - 290s 362ms/step\n"
          ],
          "name": "stdout"
        }
      ]
    },
    {
      "cell_type": "markdown",
      "metadata": {
        "id": "bkWtErcArdXq",
        "colab_type": "text"
      },
      "source": [
        "Evaluating Testing accuray on test data(containing 40% noise)"
      ]
    },
    {
      "cell_type": "code",
      "metadata": {
        "id": "MQTtsuL18_Uk",
        "colab_type": "code",
        "outputId": "8da36816-3d44-4bcf-f269-4c657911c3fd",
        "colab": {
          "base_uri": "https://localhost:8080/",
          "height": 35
        }
      },
      "source": [
        "test_accu_40 = cnn.evaluate_generator(test_generator, steps = test_generator.samples/test_generator.batch_size, verbose=1)\n"
      ],
      "execution_count": 0,
      "outputs": [
        {
          "output_type": "stream",
          "text": [
            "800/800 [==============================] - 283s 354ms/step\n"
          ],
          "name": "stdout"
        }
      ]
    },
    {
      "cell_type": "markdown",
      "metadata": {
        "id": "3qawXtxSrflH",
        "colab_type": "text"
      },
      "source": [
        "Evaluating Testing accuray on test data(containing 60% noise)"
      ]
    },
    {
      "cell_type": "code",
      "metadata": {
        "id": "7Pr7PHXl8_k7",
        "colab_type": "code",
        "outputId": "e7d1af92-59b8-4826-d8e4-10a6fe7a6881",
        "colab": {
          "base_uri": "https://localhost:8080/",
          "height": 35
        }
      },
      "source": [
        "test_accu_60 = cnn.evaluate_generator(test_generator, steps = test_generator.samples/test_generator.batch_size, verbose=1)\n"
      ],
      "execution_count": 0,
      "outputs": [
        {
          "output_type": "stream",
          "text": [
            "800/800 [==============================] - 17s 22ms/step\n"
          ],
          "name": "stdout"
        }
      ]
    },
    {
      "cell_type": "markdown",
      "metadata": {
        "id": "YMXK3zozriTI",
        "colab_type": "text"
      },
      "source": [
        "for predicting probability of every image in a folder"
      ]
    },
    {
      "cell_type": "code",
      "metadata": {
        "id": "oiBEN2N2KdSP",
        "colab_type": "code",
        "outputId": "6ffce379-8f5d-4d9f-dd54-f43452b7a2d9",
        "colab": {
          "base_uri": "https://localhost:8080/",
          "height": 35
        }
      },
      "source": [
        "y_pr=cnn.predict_generator(test_generator, steps = test_generator.samples/test_generator.batch_size, verbose=1)"
      ],
      "execution_count": 0,
      "outputs": [
        {
          "output_type": "stream",
          "text": [
            "900/900 [==============================] - 20s 22ms/step\n"
          ],
          "name": "stdout"
        }
      ]
    },
    {
      "cell_type": "markdown",
      "metadata": {
        "id": "Y_aTWG1RrqUB",
        "colab_type": "text"
      },
      "source": [
        "Prediction of every image in the folder"
      ]
    },
    {
      "cell_type": "code",
      "metadata": {
        "id": "n6uCuizYKebc",
        "colab_type": "code",
        "outputId": "5abe462b-d992-4550-ac10-98dfe0f8db93",
        "colab": {
          "base_uri": "https://localhost:8080/",
          "height": 146
        }
      },
      "source": [
        "print(y_pr)"
      ],
      "execution_count": 0,
      "outputs": [
        {
          "output_type": "stream",
          "text": [
            "[[9.9999809e-01 1.8899618e-07 6.3366262e-10 8.7637630e-08]\n",
            " [9.9971908e-01 2.7976986e-07 5.8427347e-09 9.0602596e-05]\n",
            " [9.9999928e-01 2.8533725e-08 7.7200735e-10 3.7617131e-08]\n",
            " ...\n",
            " [3.8825739e-12 1.6794593e-09 3.2824544e-06 9.9998963e-01]\n",
            " [9.0839803e-15 4.0473462e-12 2.0427267e-06 9.9999297e-01]\n",
            " [1.8705121e-13 3.2559774e-11 1.9622037e-05 9.9996030e-01]]\n"
          ],
          "name": "stdout"
        }
      ]
    }
  ]
}